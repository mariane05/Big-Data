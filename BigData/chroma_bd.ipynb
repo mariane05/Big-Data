{
 "cells": [
  {
   "cell_type": "code",
   "execution_count": 1,
   "id": "f3899361",
   "metadata": {},
   "outputs": [
    {
     "name": "stdout",
     "output_type": "stream",
     "text": [
      "Python executable: c:\\Users\\maria\\OneDrive\\Documents\\BigData\\.venv\\Scripts\\python.exe\n"
     ]
    }
   ],
   "source": [
    "import sys\n",
    "print(\"Python executable:\", sys.executable)\n"
   ]
  },
  {
   "cell_type": "code",
   "execution_count": null,
   "id": "c7678dc1",
   "metadata": {},
   "outputs": [],
   "source": [
    "import sys\n",
    "!{sys.executable} -m pip install pandas chromadb sentence-transformers tqdm"
   ]
  },
  {
   "cell_type": "code",
   "execution_count": 3,
   "id": "9ffebbef",
   "metadata": {},
   "outputs": [
    {
     "name": "stderr",
     "output_type": "stream",
     "text": [
      "c:\\Users\\maria\\OneDrive\\Documents\\BigData\\.venv\\Lib\\site-packages\\tqdm\\auto.py:21: TqdmWarning: IProgress not found. Please update jupyter and ipywidgets. See https://ipywidgets.readthedocs.io/en/stable/user_install.html\n",
      "  from .autonotebook import tqdm as notebook_tqdm\n"
     ]
    },
    {
     "name": "stdout",
     "output_type": "stream",
     "text": [
      "pandas: 2.3.0\n",
      "chromadb: 1.0.12\n"
     ]
    }
   ],
   "source": [
    "import pandas as pd\n",
    "import chromadb\n",
    "from sentence_transformers import SentenceTransformer\n",
    "from tqdm import tqdm\n",
    "\n",
    "print(\"pandas:\", pd.__version__)\n",
    "print(\"chromadb:\", chromadb.__version__)"
   ]
  },
  {
   "cell_type": "code",
   "execution_count": 4,
   "id": "a332d149",
   "metadata": {},
   "outputs": [
    {
     "name": "stdout",
     "output_type": "stream",
     "text": [
      "📊 Linhas carregadas: 355436\n"
     ]
    },
    {
     "data": {
      "text/html": [
       "<div>\n",
       "<style scoped>\n",
       "    .dataframe tbody tr th:only-of-type {\n",
       "        vertical-align: middle;\n",
       "    }\n",
       "\n",
       "    .dataframe tbody tr th {\n",
       "        vertical-align: top;\n",
       "    }\n",
       "\n",
       "    .dataframe thead th {\n",
       "        text-align: right;\n",
       "    }\n",
       "</style>\n",
       "<table border=\"1\" class=\"dataframe\">\n",
       "  <thead>\n",
       "    <tr style=\"text-align: right;\">\n",
       "      <th></th>\n",
       "      <th>Tipo</th>\n",
       "      <th>Orgao</th>\n",
       "      <th>DataCriacao</th>\n",
       "      <th>Assunto</th>\n",
       "      <th>Subdivisao</th>\n",
       "      <th>Situacao</th>\n",
       "      <th>Logradouro</th>\n",
       "      <th>Bairro</th>\n",
       "      <th>Regional</th>\n",
       "      <th>DataResposta</th>\n",
       "      <th>Origem</th>\n",
       "      <th>Unnamed: 11</th>\n",
       "    </tr>\n",
       "  </thead>\n",
       "  <tbody>\n",
       "    <tr>\n",
       "      <th>0</th>\n",
       "      <td>Solicitação</td>\n",
       "      <td>Fundação de Ação Social</td>\n",
       "      <td>2025-06-07</td>\n",
       "      <td>Abordagem social de rua - Adulto e Idoso</td>\n",
       "      <td>Adulto desaparecido</td>\n",
       "      <td>Respondido</td>\n",
       "      <td>ESTRADA GUILHERME WEIGERT</td>\n",
       "      <td>SANTA CANDIDA</td>\n",
       "      <td>Unidade Regional Boa Vista</td>\n",
       "      <td>2025-06-07</td>\n",
       "      <td>Telefone</td>\n",
       "      <td>NaN</td>\n",
       "    </tr>\n",
       "    <tr>\n",
       "      <th>1</th>\n",
       "      <td>Solicitação</td>\n",
       "      <td>Fundação de Ação Social</td>\n",
       "      <td>2025-06-07</td>\n",
       "      <td>Abordagem social de rua - Adulto e Idoso</td>\n",
       "      <td>Pessoas/famílias em desabrigo na rua</td>\n",
       "      <td>Respondido</td>\n",
       "      <td>TERMINAL BOQUEIRÃO</td>\n",
       "      <td>BOQUEIRAO</td>\n",
       "      <td>Unidade Regional Boqueirao</td>\n",
       "      <td>2025-06-07</td>\n",
       "      <td>Telefone</td>\n",
       "      <td>NaN</td>\n",
       "    </tr>\n",
       "    <tr>\n",
       "      <th>2</th>\n",
       "      <td>Solicitação</td>\n",
       "      <td>Secretaria Municipal de Trânsito</td>\n",
       "      <td>2025-06-07</td>\n",
       "      <td>Trânsito</td>\n",
       "      <td>Fiscalização de bloqueio de pista</td>\n",
       "      <td>Respondido</td>\n",
       "      <td>Rua Frederico Cantarelli</td>\n",
       "      <td>BIGORRILHO</td>\n",
       "      <td>Unidade Regional Matriz</td>\n",
       "      <td>2025-06-07</td>\n",
       "      <td>Mobile</td>\n",
       "      <td>NaN</td>\n",
       "    </tr>\n",
       "  </tbody>\n",
       "</table>\n",
       "</div>"
      ],
      "text/plain": [
       "          Tipo                             Orgao DataCriacao  \\\n",
       "0  Solicitação           Fundação de Ação Social  2025-06-07   \n",
       "1  Solicitação           Fundação de Ação Social  2025-06-07   \n",
       "2  Solicitação  Secretaria Municipal de Trânsito  2025-06-07   \n",
       "\n",
       "                                    Assunto  \\\n",
       "0  Abordagem social de rua - Adulto e Idoso   \n",
       "1  Abordagem social de rua - Adulto e Idoso   \n",
       "2                                  Trânsito   \n",
       "\n",
       "                             Subdivisao    Situacao  \\\n",
       "0                   Adulto desaparecido  Respondido   \n",
       "1  Pessoas/famílias em desabrigo na rua  Respondido   \n",
       "2     Fiscalização de bloqueio de pista  Respondido   \n",
       "\n",
       "                  Logradouro         Bairro                    Regional  \\\n",
       "0  ESTRADA GUILHERME WEIGERT  SANTA CANDIDA  Unidade Regional Boa Vista   \n",
       "1         TERMINAL BOQUEIRÃO      BOQUEIRAO  Unidade Regional Boqueirao   \n",
       "2   Rua Frederico Cantarelli     BIGORRILHO     Unidade Regional Matriz   \n",
       "\n",
       "  DataResposta    Origem  Unnamed: 11  \n",
       "0   2025-06-07  Telefone          NaN  \n",
       "1   2025-06-07  Telefone          NaN  \n",
       "2   2025-06-07    Mobile          NaN  "
      ]
     },
     "execution_count": 4,
     "metadata": {},
     "output_type": "execute_result"
    }
   ],
   "source": [
    "import pandas as pd\n",
    "\n",
    "# 2.1) Ajuste o caminho se necessário\n",
    "csv_path = \"dataset.csv\"\n",
    "\n",
    "# 2.2) Leitura pulando linhas mal-formatadas\n",
    "df = pd.read_csv(\n",
    "    csv_path,\n",
    "    sep=\";\",\n",
    "    encoding=\"utf-8\",\n",
    "    on_bad_lines=\"skip\",\n",
    "    parse_dates=[\"DataCriacao\", \"DataResposta\"],\n",
    "    dayfirst=True\n",
    ")\n",
    "\n",
    "print(f\"📊 Linhas carregadas: {len(df)}\")\n",
    "df.head(3)\n"
   ]
  },
  {
   "cell_type": "code",
   "execution_count": 5,
   "id": "60e6b927",
   "metadata": {},
   "outputs": [
    {
     "name": "stdout",
     "output_type": "stream",
     "text": [
      "✅ chromadb version: 1.0.12\n"
     ]
    }
   ],
   "source": [
    "import chromadb\n",
    "from sentence_transformers import SentenceTransformer\n",
    "from tqdm import tqdm\n",
    "\n",
    "print(\"✅ chromadb version:\", chromadb.__version__)\n"
   ]
  },
  {
   "cell_type": "code",
   "execution_count": 6,
   "id": "a50d5b6f",
   "metadata": {},
   "outputs": [
    {
     "name": "stderr",
     "output_type": "stream",
     "text": [
      "Batches: 100%|██████████| 11108/11108 [1:08:21<00:00,  2.71it/s]\n"
     ]
    }
   ],
   "source": [
    "# 3.2) Converte datas para string\n",
    "df[\"DataCriacao_str\"] = df[\"DataCriacao\"].dt.strftime(\"%Y-%m-%d\").fillna(\"\").astype(str)\n",
    "df[\"DataResposta_str\"] = df[\"DataResposta\"].dt.strftime(\"%Y-%m-%d\").fillna(\"\").astype(str)\n",
    "\n",
    "# 3.3) Monta o 'text' agregando todos os campos\n",
    "df[\"text\"] = df.apply(lambda r: (\n",
    "    f\"Tipo: {r['Tipo']}; Órgão: {r['Orgao']}; Assunto: {r['Assunto']}; \"\n",
    "    f\"Subdivisão: {r['Subdivisao']}; Situação: {r['Situacao']}; \"\n",
    "    f\"Logradouro: {r['Logradouro']}; Bairro: {r['Bairro']}; \"\n",
    "    f\"Regional: {r['Regional']}; Origem: {r['Origem']}; \"\n",
    "    f\"DataCriação: {r['DataCriacao_str']}; DataResposta: {r['DataResposta_str']}\"\n",
    "), axis=1)\n",
    "\n",
    "# 3.4) Monta um 'context' mais rico, incluindo tema, bairro e status\n",
    "df[\"context\"] = df.apply(lambda r: (\n",
    "    f\"{r['Assunto']} – Subdivisão: {r['Subdivisao']}; Bairro: {r['Bairro']}; Situação: {r['Situacao']}\"\n",
    "), axis=1)\n",
    "\n",
    "# 3.5) Gere embeddings (o resto segue igual)\n",
    "model = SentenceTransformer(\"paraphrase-multilingual-MiniLM-L12-v2\")\n",
    "embeds = model.encode(df[\"text\"].tolist(), show_progress_bar=True).tolist()\n"
   ]
  },
  {
   "cell_type": "code",
   "execution_count": null,
   "id": "e4ba6be0",
   "metadata": {},
   "outputs": [
    {
     "name": "stderr",
     "output_type": "stream",
     "text": [
      "Inserindo na collection_v2: 100%|██████████| 72/72 [05:16<00:00,  4.39s/it]"
     ]
    },
    {
     "name": "stdout",
     "output_type": "stream",
     "text": [
      "✅ Indexação concluída em: ./ouvidoria156_bd, coleção: collection_v2\n"
     ]
    },
    {
     "name": "stderr",
     "output_type": "stream",
     "text": [
      "\n"
     ]
    }
   ],
   "source": [
    "# 3.5) Inicializa cliente persistente e recria coleção\n",
    "db_path = \"./ouvidoria156_bd\"\n",
    "client = chromadb.PersistentClient(path=db_path)\n",
    "\n",
    "col_name = \"collection_v2\"  # ajuste para o nome correto da sua coleção\n",
    "\n",
    "# Remove coleção antiga, se existir\n",
    "if col_name in [c.name for c in client.list_collections()]:\n",
    "    client.delete_collection(col_name)\n",
    "\n",
    "# Cria (ou obtém) a coleção nova\n",
    "col = client.create_collection(name=col_name, get_or_create=True)\n",
    "\n",
    "# 3.6) Inserção em batches, já com metadados em string\n",
    "docs        = df[\"text\"].tolist()\n",
    "embeds_list = embeds     \n",
    "ids         = [str(i) for i in df.index]\n",
    "batch_size  = 5000\n",
    "\n",
    "for i in tqdm(range(0, len(docs), batch_size), desc=f\"Inserindo na {col_name}\"):\n",
    "    chunk = df.iloc[i : i + batch_size]\n",
    "    metas = [\n",
    "        {\n",
    "          \"Tipo\":         str(r.Tipo),\n",
    "          \"Órgão\":        str(r.Orgao),\n",
    "          \"Assunto\":      str(r.Assunto),\n",
    "          \"Subdivisão\":   str(r.Subdivisao),\n",
    "          \"Situação\":     str(r.Situacao),\n",
    "          \"Logradouro\":   str(r.Logradouro),\n",
    "          \"Bairro\":       str(r.Bairro),\n",
    "          \"Regional\":     str(r.Regional),\n",
    "          \"Origem\":       str(r.Origem),\n",
    "          \"DataCriacao\":  r.DataCriacao_str,\n",
    "          \"DataResposta\": r.DataResposta_str,\n",
    "          \"context\":      r.context\n",
    "        }\n",
    "        for r in chunk.itertuples()\n",
    "    ]\n",
    "    col.add(\n",
    "        documents  = docs[i : i + batch_size],\n",
    "        embeddings = embeds_list[i : i + batch_size],\n",
    "        metadatas  = metas,\n",
    "        ids        = ids[i : i + batch_size]\n",
    "    )\n",
    "\n",
    "print(f\"✅ Indexação concluída em: {db_path}, coleção: {col_name}\")"
   ]
  },
  {
   "cell_type": "code",
   "execution_count": 44,
   "id": "6542ea2c",
   "metadata": {},
   "outputs": [
    {
     "name": "stdout",
     "output_type": "stream",
     "text": [
      "📝 Tipo: Solicitação; Órgão: Secretaria Municipal do Meio Ambiente; Assunto: Árvore; Subdivisão: Árvore ou galho caído – sem bloqueio de passagem; Situação: Concluído; Logradouro: AVENIDA JORNALISTA ADERBAL GAERTNER STRESSER; Bairro: CAJURU; Regional: Unidade Regional Cajuru; Origem: Telefone; DataCriação: 2025-02-06; DataResposta: 2025-02-07\n",
      "🔎 {'Órgão': 'Secretaria Municipal do Meio Ambiente', 'Tipo': 'Solicitação', 'Regional': 'Unidade Regional Cajuru', 'Situação': 'Concluído', 'Subdivisão': 'Árvore ou galho caído – sem bloqueio de passagem', 'Bairro': 'CAJURU', 'context': 'Árvore – Subdivisão: Árvore ou galho caído – sem bloqueio de passagem; Bairro: CAJURU; Situação: Concluído', 'DataResposta': '2025-02-07', 'Origem': 'Telefone', 'Logradouro': 'AVENIDA JORNALISTA ADERBAL GAERTNER STRESSER', 'Assunto': 'Árvore', 'DataCriacao': '2025-02-06'}\n",
      "\n",
      "📝 Tipo: Solicitação; Órgão: Secretaria Municipal do Meio Ambiente; Assunto: Árvore; Subdivisão: Árvore ou galho caído – sem bloqueio de passagem; Situação: Concluído; Logradouro: Rua Tenente Ricardo Kirch; Bairro: JARDIM DAS AMERICAS; Regional: Unidade Regional Cajuru; Origem: Telefone; DataCriação: 2025-04-29; DataResposta: 2025-05-03\n",
      "🔎 {'Regional': 'Unidade Regional Cajuru', 'Tipo': 'Solicitação', 'Subdivisão': 'Árvore ou galho caído – sem bloqueio de passagem', 'Origem': 'Telefone', 'Situação': 'Concluído', 'Assunto': 'Árvore', 'Órgão': 'Secretaria Municipal do Meio Ambiente', 'Bairro': 'JARDIM DAS AMERICAS', 'context': 'Árvore – Subdivisão: Árvore ou galho caído – sem bloqueio de passagem; Bairro: JARDIM DAS AMERICAS; Situação: Concluído', 'DataResposta': '2025-05-03', 'DataCriacao': '2025-04-29', 'Logradouro': 'Rua Tenente Ricardo Kirch'}\n",
      "\n",
      "📝 Tipo: Solicitação; Órgão: Secretaria Municipal do Meio Ambiente; Assunto: Árvore; Subdivisão: Árvore ou galho caído – sem bloqueio de passagem; Situação: Concluído; Logradouro: AVENIDA SANTA BERNADETHE; Bairro: NOVO MUNDO; Regional: Unidade Regional Pinheirinho; Origem: Telefone; DataCriação: 2025-05-14; DataResposta: 2025-05-19\n",
      "🔎 {'Bairro': 'NOVO MUNDO', 'context': 'Árvore – Subdivisão: Árvore ou galho caído – sem bloqueio de passagem; Bairro: NOVO MUNDO; Situação: Concluído', 'DataResposta': '2025-05-19', 'Logradouro': 'AVENIDA SANTA BERNADETHE', 'Assunto': 'Árvore', 'Órgão': 'Secretaria Municipal do Meio Ambiente', 'Origem': 'Telefone', 'DataCriacao': '2025-05-14', 'Tipo': 'Solicitação', 'Subdivisão': 'Árvore ou galho caído – sem bloqueio de passagem', 'Situação': 'Concluído', 'Regional': 'Unidade Regional Pinheirinho'}\n",
      "\n",
      "📝 Tipo: Solicitação; Órgão: Secretaria Municipal do Meio Ambiente; Assunto: Árvore; Subdivisão: Árvore ou galho caído – com bloqueio de passagem; Situação: Concluído; Logradouro: RUA FERNANDO DE NORONHA; Bairro: SANTA CANDIDA; Regional: Unidade Regional Boa Vista; Origem: Telefone; DataCriação: 2025-02-14; DataResposta: 2025-02-14\n",
      "🔎 {'Situação': 'Concluído', 'Regional': 'Unidade Regional Boa Vista', 'Tipo': 'Solicitação', 'Bairro': 'SANTA CANDIDA', 'context': 'Árvore – Subdivisão: Árvore ou galho caído – com bloqueio de passagem; Bairro: SANTA CANDIDA; Situação: Concluído', 'Órgão': 'Secretaria Municipal do Meio Ambiente', 'Subdivisão': 'Árvore ou galho caído – com bloqueio de passagem', 'Logradouro': 'RUA FERNANDO DE NORONHA', 'DataCriacao': '2025-02-14', 'Origem': 'Telefone', 'DataResposta': '2025-02-14', 'Assunto': 'Árvore'}\n",
      "\n",
      "📝 Tipo: Solicitação; Órgão: Secretaria Municipal do Meio Ambiente; Assunto: Árvore; Subdivisão: Árvore ou galho caído – sem bloqueio de passagem; Situação: Concluído; Logradouro: Rua Francisco Schaffer; Bairro: VISTA ALEGRE; Regional: Unidade Regional Santa Felicidade; Origem: Telefone; DataCriação: 2025-05-12; DataResposta: 2025-05-19\n",
      "🔎 {'DataCriacao': '2025-05-12', 'Regional': 'Unidade Regional Santa Felicidade', 'Tipo': 'Solicitação', 'context': 'Árvore – Subdivisão: Árvore ou galho caído – sem bloqueio de passagem; Bairro: VISTA ALEGRE; Situação: Concluído', 'DataResposta': '2025-05-19', 'Subdivisão': 'Árvore ou galho caído – sem bloqueio de passagem', 'Origem': 'Telefone', 'Logradouro': 'Rua Francisco Schaffer', 'Situação': 'Concluído', 'Bairro': 'VISTA ALEGRE', 'Assunto': 'Árvore', 'Órgão': 'Secretaria Municipal do Meio Ambiente'}\n",
      "\n",
      "⏱️ Tempo total de execução: 0.003 segundos\n"
     ]
    }
   ],
   "source": [
    "from sentence_transformers import SentenceTransformer\n",
    "import time\n",
    "# 1. Query vetorial\n",
    "query = \"pedido árvore obstruindo via\"\n",
    "model = SentenceTransformer(\"paraphrase-multilingual-MiniLM-L12-v2\")\n",
    "q_emb = model.encode([query]).tolist()\n",
    "# 2. Início da contagem de tempo\n",
    "start_time = time.time()\n",
    "# 3. Consulta com filtro\n",
    "results = collection.query(\n",
    "    query_embeddings=q_emb,\n",
    "    # where={\"Bairro\": {\"$eq\": \"SANTA CANDIDA\"}},  \n",
    "    n_results=5,\n",
    "    include=[\"documents\", \"metadatas\"]\n",
    ")\n",
    "# 4. Fim da contagem de tempo\n",
    "end_time = time.time()\n",
    "elapsed = end_time - start_time\n",
    "# 5. Resultado\n",
    "for doc, meta in zip(results[\"documents\"][0], results[\"metadatas\"][0]):\n",
    "    print(\"📝\", doc)\n",
    "    print(\"🔎\", meta)\n",
    "    print()\n",
    "\n",
    "print(f\"⏱️ Tempo total de execução: {elapsed:.3f} segundos\")"
   ]
  }
 ],
 "metadata": {
  "kernelspec": {
   "display_name": ".venv",
   "language": "python",
   "name": "python3"
  },
  "language_info": {
   "codemirror_mode": {
    "name": "ipython",
    "version": 3
   },
   "file_extension": ".py",
   "mimetype": "text/x-python",
   "name": "python",
   "nbconvert_exporter": "python",
   "pygments_lexer": "ipython3",
   "version": "3.13.2"
  }
 },
 "nbformat": 4,
 "nbformat_minor": 5
}
